{
 "cells": [
  {
   "cell_type": "code",
   "execution_count": 5,
   "id": "137a3ed3",
   "metadata": {},
   "outputs": [],
   "source": [
    "import pandas as pd"
   ]
  },
  {
   "cell_type": "code",
   "execution_count": 8,
   "id": "d6eed70c",
   "metadata": {},
   "outputs": [
    {
     "data": {
      "text/plain": [
       "{'Estoque':    Código                 Item  Estoque Mínimo  Custo da Unidade  \\\n",
       " 0  SIG001     Canon 6D Mark II               5              8500   \n",
       " 1  SIG002    Canon 5D Mark III               2              9500   \n",
       " 2  SIG003     Lente 85mm f/1.4               8              7000   \n",
       " 3  SIG004     Lente 50mm f/1.4               8               900   \n",
       " 4  SIG005  Lente 16-35mm f/2.8               8              6120   \n",
       " 5  SIG006     Filtro ND 2 Stop               2               450   \n",
       " 6  SIG007     Filtro ND 3 Stop               2               450   \n",
       " 7  SIG008     Filtro ND 5 Stop               2               450   \n",
       " 8  SIG009      DJI Mavic Air 2               1             10890   \n",
       " 9  SIG010          DJI Ronin-S               1              3980   \n",
       " \n",
       "    Preço da Unidade Unidade de Medida  Estoque Atual  \n",
       " 0              8500           Unidade             13  \n",
       " 1             13650           Unidade              1  \n",
       " 2              9989           Unidade              6  \n",
       " 3              1649           Unidade             10  \n",
       " 4              8997           Unidade             11  \n",
       " 5              1220           Unidade             20  \n",
       " 6              1220           Unidade             21  \n",
       " 7              1220           Unidade             18  \n",
       " 8             13580           Unidade              2  \n",
       " 9              5790           Unidade              1  ,\n",
       " 'Vendas':    Data da Venda                 Item  Quantidade  Vendedor  Preço Unitário  \\\n",
       " 0     2020-01-02     Lente 50mm f/1.4           2    Carlos            1649   \n",
       " 1     2020-01-02     Filtro ND 5 Stop           2    Raquel            1220   \n",
       " 2     2020-01-03     Filtro ND 5 Stop           2    Raquel            1220   \n",
       " 3     2020-01-03  Lente 16-35mm f/2.8           2    Carlos            8997   \n",
       " 4     2020-01-04  Lente 16-35mm f/2.8           2  Fernanda            8997   \n",
       " ..           ...                  ...         ...       ...             ...   \n",
       " 85    2020-01-29     Filtro ND 5 Stop           2      Theo            1220   \n",
       " 86    2020-01-29  Lente 16-35mm f/2.8           2      Theo            8997   \n",
       " 87    2020-01-29     Filtro ND 2 Stop           1  Fernanda            1220   \n",
       " 88    2020-01-30     Filtro ND 3 Stop           2  Fernanda            1220   \n",
       " 89    2020-01-30     Filtro ND 5 Stop           2    Raquel            1220   \n",
       " \n",
       "     Total de Vendas  \n",
       " 0              3298  \n",
       " 1              2440  \n",
       " 2              2440  \n",
       " 3             17994  \n",
       " 4             17994  \n",
       " ..              ...  \n",
       " 85             2440  \n",
       " 86            17994  \n",
       " 87             1220  \n",
       " 88             2440  \n",
       " 89             2440  \n",
       " \n",
       " [90 rows x 6 columns],\n",
       " 'Funcionários':   Funcionário  Total de Vendas\n",
       " 0      Carlos           205301\n",
       " 1    Fernanda           204982\n",
       " 2        Theo           272816\n",
       " 3      Raquel           172700}"
      ]
     },
     "execution_count": 8,
     "metadata": {},
     "output_type": "execute_result"
    }
   ],
   "source": [
    "planilha = pd.read_excel(\"../Dados/controle_da_empresa.xlsx\", sheet_name = None) # None é para carregar todas as abas da planilha \n",
    "planilha\n"
   ]
  },
  {
   "cell_type": "code",
   "execution_count": 9,
   "id": "60a58e89",
   "metadata": {},
   "outputs": [
    {
     "data": {
      "text/html": [
       "<div>\n",
       "<style scoped>\n",
       "    .dataframe tbody tr th:only-of-type {\n",
       "        vertical-align: middle;\n",
       "    }\n",
       "\n",
       "    .dataframe tbody tr th {\n",
       "        vertical-align: top;\n",
       "    }\n",
       "\n",
       "    .dataframe thead th {\n",
       "        text-align: right;\n",
       "    }\n",
       "</style>\n",
       "<table border=\"1\" class=\"dataframe\">\n",
       "  <thead>\n",
       "    <tr style=\"text-align: right;\">\n",
       "      <th></th>\n",
       "      <th>Data da Venda</th>\n",
       "      <th>Item</th>\n",
       "      <th>Quantidade</th>\n",
       "      <th>Vendedor</th>\n",
       "      <th>Preço Unitário</th>\n",
       "      <th>Total de Vendas</th>\n",
       "    </tr>\n",
       "  </thead>\n",
       "  <tbody>\n",
       "    <tr>\n",
       "      <th>0</th>\n",
       "      <td>2020-01-02</td>\n",
       "      <td>Lente 50mm f/1.4</td>\n",
       "      <td>2</td>\n",
       "      <td>Carlos</td>\n",
       "      <td>1649</td>\n",
       "      <td>3298</td>\n",
       "    </tr>\n",
       "    <tr>\n",
       "      <th>1</th>\n",
       "      <td>2020-01-02</td>\n",
       "      <td>Filtro ND 5 Stop</td>\n",
       "      <td>2</td>\n",
       "      <td>Raquel</td>\n",
       "      <td>1220</td>\n",
       "      <td>2440</td>\n",
       "    </tr>\n",
       "    <tr>\n",
       "      <th>2</th>\n",
       "      <td>2020-01-03</td>\n",
       "      <td>Filtro ND 5 Stop</td>\n",
       "      <td>2</td>\n",
       "      <td>Raquel</td>\n",
       "      <td>1220</td>\n",
       "      <td>2440</td>\n",
       "    </tr>\n",
       "    <tr>\n",
       "      <th>3</th>\n",
       "      <td>2020-01-03</td>\n",
       "      <td>Lente 16-35mm f/2.8</td>\n",
       "      <td>2</td>\n",
       "      <td>Carlos</td>\n",
       "      <td>8997</td>\n",
       "      <td>17994</td>\n",
       "    </tr>\n",
       "    <tr>\n",
       "      <th>4</th>\n",
       "      <td>2020-01-04</td>\n",
       "      <td>Lente 16-35mm f/2.8</td>\n",
       "      <td>2</td>\n",
       "      <td>Fernanda</td>\n",
       "      <td>8997</td>\n",
       "      <td>17994</td>\n",
       "    </tr>\n",
       "    <tr>\n",
       "      <th>...</th>\n",
       "      <td>...</td>\n",
       "      <td>...</td>\n",
       "      <td>...</td>\n",
       "      <td>...</td>\n",
       "      <td>...</td>\n",
       "      <td>...</td>\n",
       "    </tr>\n",
       "    <tr>\n",
       "      <th>85</th>\n",
       "      <td>2020-01-29</td>\n",
       "      <td>Filtro ND 5 Stop</td>\n",
       "      <td>2</td>\n",
       "      <td>Theo</td>\n",
       "      <td>1220</td>\n",
       "      <td>2440</td>\n",
       "    </tr>\n",
       "    <tr>\n",
       "      <th>86</th>\n",
       "      <td>2020-01-29</td>\n",
       "      <td>Lente 16-35mm f/2.8</td>\n",
       "      <td>2</td>\n",
       "      <td>Theo</td>\n",
       "      <td>8997</td>\n",
       "      <td>17994</td>\n",
       "    </tr>\n",
       "    <tr>\n",
       "      <th>87</th>\n",
       "      <td>2020-01-29</td>\n",
       "      <td>Filtro ND 2 Stop</td>\n",
       "      <td>1</td>\n",
       "      <td>Fernanda</td>\n",
       "      <td>1220</td>\n",
       "      <td>1220</td>\n",
       "    </tr>\n",
       "    <tr>\n",
       "      <th>88</th>\n",
       "      <td>2020-01-30</td>\n",
       "      <td>Filtro ND 3 Stop</td>\n",
       "      <td>2</td>\n",
       "      <td>Fernanda</td>\n",
       "      <td>1220</td>\n",
       "      <td>2440</td>\n",
       "    </tr>\n",
       "    <tr>\n",
       "      <th>89</th>\n",
       "      <td>2020-01-30</td>\n",
       "      <td>Filtro ND 5 Stop</td>\n",
       "      <td>2</td>\n",
       "      <td>Raquel</td>\n",
       "      <td>1220</td>\n",
       "      <td>2440</td>\n",
       "    </tr>\n",
       "  </tbody>\n",
       "</table>\n",
       "<p>90 rows × 6 columns</p>\n",
       "</div>"
      ],
      "text/plain": [
       "   Data da Venda                 Item  Quantidade  Vendedor  Preço Unitário  \\\n",
       "0     2020-01-02     Lente 50mm f/1.4           2    Carlos            1649   \n",
       "1     2020-01-02     Filtro ND 5 Stop           2    Raquel            1220   \n",
       "2     2020-01-03     Filtro ND 5 Stop           2    Raquel            1220   \n",
       "3     2020-01-03  Lente 16-35mm f/2.8           2    Carlos            8997   \n",
       "4     2020-01-04  Lente 16-35mm f/2.8           2  Fernanda            8997   \n",
       "..           ...                  ...         ...       ...             ...   \n",
       "85    2020-01-29     Filtro ND 5 Stop           2      Theo            1220   \n",
       "86    2020-01-29  Lente 16-35mm f/2.8           2      Theo            8997   \n",
       "87    2020-01-29     Filtro ND 2 Stop           1  Fernanda            1220   \n",
       "88    2020-01-30     Filtro ND 3 Stop           2  Fernanda            1220   \n",
       "89    2020-01-30     Filtro ND 5 Stop           2    Raquel            1220   \n",
       "\n",
       "    Total de Vendas  \n",
       "0              3298  \n",
       "1              2440  \n",
       "2              2440  \n",
       "3             17994  \n",
       "4             17994  \n",
       "..              ...  \n",
       "85             2440  \n",
       "86            17994  \n",
       "87             1220  \n",
       "88             2440  \n",
       "89             2440  \n",
       "\n",
       "[90 rows x 6 columns]"
      ]
     },
     "execution_count": 9,
     "metadata": {},
     "output_type": "execute_result"
    }
   ],
   "source": [
    "# visualizando uma aba específica\n",
    "planilha[\"Vendas\"]"
   ]
  },
  {
   "cell_type": "code",
   "execution_count": 13,
   "id": "86972977",
   "metadata": {},
   "outputs": [
    {
     "data": {
      "text/plain": [
       "139"
      ]
     },
     "execution_count": 13,
     "metadata": {},
     "output_type": "execute_result"
    }
   ],
   "source": [
    "# acessando coluna específica\n",
    "planilha[\"Vendas\"][\"Quantidade\"]\n",
    "# Comando\n",
    "planilha[\"Vendas\"][\"Quantidade\"].sum()"
   ]
  },
  {
   "cell_type": "code",
   "execution_count": 15,
   "id": "a926e3d3",
   "metadata": {},
   "outputs": [
    {
     "data": {
      "text/plain": [
       "dict_keys(['Estoque', 'Vendas', 'Funcionários'])"
      ]
     },
     "execution_count": 15,
     "metadata": {},
     "output_type": "execute_result"
    }
   ],
   "source": [
    "# consultando as abas da planilha\n",
    "planilha.keys()"
   ]
  },
  {
   "cell_type": "code",
   "execution_count": 16,
   "id": "48841e1f",
   "metadata": {},
   "outputs": [
    {
     "data": {
      "text/plain": [
       "9508.877777777778"
      ]
     },
     "execution_count": 16,
     "metadata": {},
     "output_type": "execute_result"
    }
   ],
   "source": [
    "# Calculando média\n",
    "planilha[\"Vendas\"][\"Total de Vendas\"].mean()"
   ]
  },
  {
   "cell_type": "code",
   "execution_count": 18,
   "id": "eb2c96c6",
   "metadata": {},
   "outputs": [
    {
     "data": {
      "text/plain": [
       "8509.90896560424"
      ]
     },
     "execution_count": 18,
     "metadata": {},
     "output_type": "execute_result"
    }
   ],
   "source": [
    "planilha[\"Vendas\"][\"Total de Vendas\"].std()\n",
    "# DEsvio padrão muito alta quer dizer que os valores variam bastante em relação à média"
   ]
  },
  {
   "cell_type": "code",
   "execution_count": 19,
   "id": "efeaf638",
   "metadata": {},
   "outputs": [],
   "source": [
    "# Salvando uma aba como variavel\n",
    "vendas = planilha[\"Vendas\"]"
   ]
  },
  {
   "cell_type": "code",
   "execution_count": 20,
   "id": "c627a858",
   "metadata": {},
   "outputs": [
    {
     "data": {
      "text/html": [
       "<div>\n",
       "<style scoped>\n",
       "    .dataframe tbody tr th:only-of-type {\n",
       "        vertical-align: middle;\n",
       "    }\n",
       "\n",
       "    .dataframe tbody tr th {\n",
       "        vertical-align: top;\n",
       "    }\n",
       "\n",
       "    .dataframe thead th {\n",
       "        text-align: right;\n",
       "    }\n",
       "</style>\n",
       "<table border=\"1\" class=\"dataframe\">\n",
       "  <thead>\n",
       "    <tr style=\"text-align: right;\">\n",
       "      <th></th>\n",
       "      <th>Data da Venda</th>\n",
       "      <th>Item</th>\n",
       "      <th>Quantidade</th>\n",
       "      <th>Vendedor</th>\n",
       "      <th>Preço Unitário</th>\n",
       "      <th>Total de Vendas</th>\n",
       "    </tr>\n",
       "  </thead>\n",
       "  <tbody>\n",
       "    <tr>\n",
       "      <th>0</th>\n",
       "      <td>2020-01-02</td>\n",
       "      <td>Lente 50mm f/1.4</td>\n",
       "      <td>2</td>\n",
       "      <td>Carlos</td>\n",
       "      <td>1649</td>\n",
       "      <td>3298</td>\n",
       "    </tr>\n",
       "    <tr>\n",
       "      <th>1</th>\n",
       "      <td>2020-01-02</td>\n",
       "      <td>Filtro ND 5 Stop</td>\n",
       "      <td>2</td>\n",
       "      <td>Raquel</td>\n",
       "      <td>1220</td>\n",
       "      <td>2440</td>\n",
       "    </tr>\n",
       "    <tr>\n",
       "      <th>2</th>\n",
       "      <td>2020-01-03</td>\n",
       "      <td>Filtro ND 5 Stop</td>\n",
       "      <td>2</td>\n",
       "      <td>Raquel</td>\n",
       "      <td>1220</td>\n",
       "      <td>2440</td>\n",
       "    </tr>\n",
       "    <tr>\n",
       "      <th>3</th>\n",
       "      <td>2020-01-03</td>\n",
       "      <td>Lente 16-35mm f/2.8</td>\n",
       "      <td>2</td>\n",
       "      <td>Carlos</td>\n",
       "      <td>8997</td>\n",
       "      <td>17994</td>\n",
       "    </tr>\n",
       "    <tr>\n",
       "      <th>4</th>\n",
       "      <td>2020-01-04</td>\n",
       "      <td>Lente 16-35mm f/2.8</td>\n",
       "      <td>2</td>\n",
       "      <td>Fernanda</td>\n",
       "      <td>8997</td>\n",
       "      <td>17994</td>\n",
       "    </tr>\n",
       "    <tr>\n",
       "      <th>...</th>\n",
       "      <td>...</td>\n",
       "      <td>...</td>\n",
       "      <td>...</td>\n",
       "      <td>...</td>\n",
       "      <td>...</td>\n",
       "      <td>...</td>\n",
       "    </tr>\n",
       "    <tr>\n",
       "      <th>85</th>\n",
       "      <td>2020-01-29</td>\n",
       "      <td>Filtro ND 5 Stop</td>\n",
       "      <td>2</td>\n",
       "      <td>Theo</td>\n",
       "      <td>1220</td>\n",
       "      <td>2440</td>\n",
       "    </tr>\n",
       "    <tr>\n",
       "      <th>86</th>\n",
       "      <td>2020-01-29</td>\n",
       "      <td>Lente 16-35mm f/2.8</td>\n",
       "      <td>2</td>\n",
       "      <td>Theo</td>\n",
       "      <td>8997</td>\n",
       "      <td>17994</td>\n",
       "    </tr>\n",
       "    <tr>\n",
       "      <th>87</th>\n",
       "      <td>2020-01-29</td>\n",
       "      <td>Filtro ND 2 Stop</td>\n",
       "      <td>1</td>\n",
       "      <td>Fernanda</td>\n",
       "      <td>1220</td>\n",
       "      <td>1220</td>\n",
       "    </tr>\n",
       "    <tr>\n",
       "      <th>88</th>\n",
       "      <td>2020-01-30</td>\n",
       "      <td>Filtro ND 3 Stop</td>\n",
       "      <td>2</td>\n",
       "      <td>Fernanda</td>\n",
       "      <td>1220</td>\n",
       "      <td>2440</td>\n",
       "    </tr>\n",
       "    <tr>\n",
       "      <th>89</th>\n",
       "      <td>2020-01-30</td>\n",
       "      <td>Filtro ND 5 Stop</td>\n",
       "      <td>2</td>\n",
       "      <td>Raquel</td>\n",
       "      <td>1220</td>\n",
       "      <td>2440</td>\n",
       "    </tr>\n",
       "  </tbody>\n",
       "</table>\n",
       "<p>90 rows × 6 columns</p>\n",
       "</div>"
      ],
      "text/plain": [
       "   Data da Venda                 Item  Quantidade  Vendedor  Preço Unitário  \\\n",
       "0     2020-01-02     Lente 50mm f/1.4           2    Carlos            1649   \n",
       "1     2020-01-02     Filtro ND 5 Stop           2    Raquel            1220   \n",
       "2     2020-01-03     Filtro ND 5 Stop           2    Raquel            1220   \n",
       "3     2020-01-03  Lente 16-35mm f/2.8           2    Carlos            8997   \n",
       "4     2020-01-04  Lente 16-35mm f/2.8           2  Fernanda            8997   \n",
       "..           ...                  ...         ...       ...             ...   \n",
       "85    2020-01-29     Filtro ND 5 Stop           2      Theo            1220   \n",
       "86    2020-01-29  Lente 16-35mm f/2.8           2      Theo            8997   \n",
       "87    2020-01-29     Filtro ND 2 Stop           1  Fernanda            1220   \n",
       "88    2020-01-30     Filtro ND 3 Stop           2  Fernanda            1220   \n",
       "89    2020-01-30     Filtro ND 5 Stop           2    Raquel            1220   \n",
       "\n",
       "    Total de Vendas  \n",
       "0              3298  \n",
       "1              2440  \n",
       "2              2440  \n",
       "3             17994  \n",
       "4             17994  \n",
       "..              ...  \n",
       "85             2440  \n",
       "86            17994  \n",
       "87             1220  \n",
       "88             2440  \n",
       "89             2440  \n",
       "\n",
       "[90 rows x 6 columns]"
      ]
     },
     "execution_count": 20,
     "metadata": {},
     "output_type": "execute_result"
    }
   ],
   "source": [
    "vendas"
   ]
  },
  {
   "cell_type": "code",
   "execution_count": 22,
   "id": "b5928f5b",
   "metadata": {},
   "outputs": [
    {
     "data": {
      "text/plain": [
       "0      3298\n",
       "1      2440\n",
       "2      2440\n",
       "3     17994\n",
       "4     17994\n",
       "      ...  \n",
       "85     2440\n",
       "86    17994\n",
       "87     1220\n",
       "88     2440\n",
       "89     2440\n",
       "Name: Total de Vendas, Length: 90, dtype: int64"
      ]
     },
     "execution_count": 22,
     "metadata": {},
     "output_type": "execute_result"
    }
   ],
   "source": [
    "vendas[\"Total de Vendas\"]"
   ]
  },
  {
   "cell_type": "code",
   "execution_count": 25,
   "id": "7f52c061",
   "metadata": {},
   "outputs": [
    {
     "data": {
      "text/plain": [
       "<AxesSubplot:xlabel='Data da Venda'>"
      ]
     },
     "execution_count": 25,
     "metadata": {},
     "output_type": "execute_result"
    },
    {
     "data": {
      "image/png": "[encoded data removed]",
      "text/plain": [
       "<Figure size 432x288 with 1 Axes>"
      ]
     },
     "metadata": {
      "needs_background": "light"
     },
     "output_type": "display_data"
    }
   ],
   "source": [
    "# não precisa nem importar matplotlib\n",
    "vendas.plot(x = \"Data da Venda\", y = \"Total de Vendas\")"
   ]
  },
  {
   "cell_type": "code",
   "execution_count": 27,
   "id": "1646ec91",
   "metadata": {},
   "outputs": [
    {
     "data": {
      "text/plain": [
       "array([[<AxesSubplot:title={'center':'Total de Vendas'}>]], dtype=object)"
      ]
     },
     "execution_count": 27,
     "metadata": {},
     "output_type": "execute_result"
    },
    {
     "data": {
      "image/png": "[encoded data removed]",
      "text/plain": [
       "<Figure size 432x288 with 1 Axes>"
      ]
     },
     "metadata": {
      "needs_background": "light"
     },
     "output_type": "display_data"
    }
   ],
   "source": [
    "# plot de histograma\n",
    "vendas.hist(\"Total de Vendas\")"
   ]
  },
  {
   "cell_type": "code",
   "execution_count": 30,
   "id": "8ce6fcd5",
   "metadata": {},
   "outputs": [],
   "source": [
    "# lendo a variavel vendas\n",
    "# qual dia da semana vendo mais?\n",
    "vendas[\"Dia da Venda\"] = vendas[\"Data da Venda\"].apply(lambda x: x.weekday())"
   ]
  },
  {
   "cell_type": "code",
   "execution_count": 32,
   "id": "4538d6c6",
   "metadata": {},
   "outputs": [
    {
     "data": {
      "text/plain": [
       "<AxesSubplot:>"
      ]
     },
     "execution_count": 32,
     "metadata": {},
     "output_type": "execute_result"
    },
    {
     "data": {
      "image/png": "[encoded data removed]",
      "text/plain": [
       "<Figure size 432x288 with 1 Axes>"
      ]
     },
     "metadata": {
      "needs_background": "light"
     },
     "output_type": "display_data"
    }
   ],
   "source": [
    "vendas[\"Dia da Venda\"].hist(bins = 7)"
   ]
  }
 ],
 "metadata": {
  "kernelspec": {
   "display_name": "Python 3 (ipykernel)",
   "language": "python",
   "name": "python3"
  },
  "language_info": {
   "codemirror_mode": {
    "name": "ipython",
    "version": 3
   },
   "file_extension": ".py",
   "mimetype": "text/x-python",
   "name": "python",
   "nbconvert_exporter": "python",
   "pygments_lexer": "ipython3",
   "version": "3.9.0"
  }
 },
 "nbformat": 4,
 "nbformat_minor": 5
}
